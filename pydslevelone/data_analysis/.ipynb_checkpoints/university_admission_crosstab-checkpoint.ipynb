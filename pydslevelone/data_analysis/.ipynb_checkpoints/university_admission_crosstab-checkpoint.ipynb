{
 "cells": [
  {
   "cell_type": "code",
   "execution_count": 42,
   "metadata": {
    "ExecuteTime": {
     "end_time": "2021-02-01T09:14:40.324501Z",
     "start_time": "2021-02-01T09:14:40.312508Z"
    }
   },
   "outputs": [],
   "source": [
    "%matplotlib inline\n",
    "from matplotlib import pyplot as plt\n",
    "import numpy\n",
    "import pandas as pd                #for handling datasets\n",
    "import statsmodels.api as sm       #for statistical modeling\n",
    "import pylab as pl                 #for plotting\n",
    "import numpy as np                 #for numerical computation"
   ]
  },
  {
   "cell_type": "code",
   "execution_count": 43,
   "metadata": {
    "ExecuteTime": {
     "end_time": "2021-02-01T09:14:40.916361Z",
     "start_time": "2021-02-01T09:14:40.899369Z"
    }
   },
   "outputs": [],
   "source": [
    "dfTrain = pd.read_csv(\"train_university_admission_data.csv\")\n",
    "dfTest = pd.read_csv(\"test_university_admission_data.csv\")"
   ]
  },
  {
   "cell_type": "code",
   "execution_count": 44,
   "metadata": {
    "ExecuteTime": {
     "end_time": "2021-02-01T09:14:41.512568Z",
     "start_time": "2021-02-01T09:14:41.491580Z"
    }
   },
   "outputs": [
    {
     "name": "stdout",
     "output_type": "stream",
     "text": [
      "   admit  gre   gpa prestige\n",
      "0      0  380  3.61     good\n",
      "1      1  660  3.67     good\n",
      "2      1  800  4.00     best\n",
      "3      1  640  3.19       ok\n",
      "4      0  520  2.93       ok\n"
     ]
    }
   ],
   "source": [
    "print(dfTrain.head())"
   ]
  },
  {
   "cell_type": "code",
   "execution_count": 45,
   "metadata": {
    "ExecuteTime": {
     "end_time": "2021-02-01T09:14:42.167912Z",
     "start_time": "2021-02-01T09:14:42.155922Z"
    }
   },
   "outputs": [
    {
     "name": "stdout",
     "output_type": "stream",
     "text": [
      "   gre   gpa  prestige\n",
      "0  640  3.30  veryGood\n",
      "1  660  3.60      good\n",
      "2  400  3.15  veryGood\n",
      "3  680  3.98  veryGood\n",
      "4  220  2.83      good\n"
     ]
    }
   ],
   "source": [
    "print(dfTest.head())"
   ]
  },
  {
   "cell_type": "code",
   "execution_count": 46,
   "metadata": {
    "ExecuteTime": {
     "end_time": "2021-02-01T09:14:42.850564Z",
     "start_time": "2021-02-01T09:14:42.814588Z"
    }
   },
   "outputs": [
    {
     "name": "stdout",
     "output_type": "stream",
     "text": [
      "prestige  best  good  ok  veryGood\n",
      "admit                             \n",
      "0           20    73  47        68\n",
      "1           25    19   9        39\n"
     ]
    }
   ],
   "source": [
    "print(pd.crosstab(dfTrain['admit'], dfTrain['prestige'], rownames=['admit']))"
   ]
  },
  {
   "cell_type": "code",
   "execution_count": 47,
   "metadata": {
    "ExecuteTime": {
     "end_time": "2021-02-01T09:14:43.859514Z",
     "start_time": "2021-02-01T09:14:43.837528Z"
    }
   },
   "outputs": [
    {
     "data": {
      "text/html": [
       "<div>\n",
       "<style scoped>\n",
       "    .dataframe tbody tr th:only-of-type {\n",
       "        vertical-align: middle;\n",
       "    }\n",
       "\n",
       "    .dataframe tbody tr th {\n",
       "        vertical-align: top;\n",
       "    }\n",
       "\n",
       "    .dataframe thead th {\n",
       "        text-align: right;\n",
       "    }\n",
       "</style>\n",
       "<table border=\"1\" class=\"dataframe\">\n",
       "  <thead>\n",
       "    <tr style=\"text-align: right;\">\n",
       "      <th></th>\n",
       "      <th>gre</th>\n",
       "      <th>gpa</th>\n",
       "    </tr>\n",
       "    <tr>\n",
       "      <th>admit</th>\n",
       "      <th></th>\n",
       "      <th></th>\n",
       "    </tr>\n",
       "  </thead>\n",
       "  <tbody>\n",
       "    <tr>\n",
       "      <td>0</td>\n",
       "      <td>573.461538</td>\n",
       "      <td>3.336587</td>\n",
       "    </tr>\n",
       "    <tr>\n",
       "      <td>1</td>\n",
       "      <td>630.217391</td>\n",
       "      <td>3.498478</td>\n",
       "    </tr>\n",
       "  </tbody>\n",
       "</table>\n",
       "</div>"
      ],
      "text/plain": [
       "              gre       gpa\n",
       "admit                      \n",
       "0      573.461538  3.336587\n",
       "1      630.217391  3.498478"
      ]
     },
     "execution_count": 47,
     "metadata": {},
     "output_type": "execute_result"
    }
   ],
   "source": [
    "dfTrain.groupby('admit').mean()"
   ]
  },
  {
   "cell_type": "code",
   "execution_count": 48,
   "metadata": {
    "ExecuteTime": {
     "end_time": "2021-02-01T09:14:44.622904Z",
     "start_time": "2021-02-01T09:14:44.598921Z"
    }
   },
   "outputs": [
    {
     "data": {
      "text/html": [
       "<div>\n",
       "<style scoped>\n",
       "    .dataframe tbody tr th:only-of-type {\n",
       "        vertical-align: middle;\n",
       "    }\n",
       "\n",
       "    .dataframe tbody tr th {\n",
       "        vertical-align: top;\n",
       "    }\n",
       "\n",
       "    .dataframe thead th {\n",
       "        text-align: right;\n",
       "    }\n",
       "</style>\n",
       "<table border=\"1\" class=\"dataframe\">\n",
       "  <thead>\n",
       "    <tr style=\"text-align: right;\">\n",
       "      <th></th>\n",
       "      <th>gre</th>\n",
       "      <th>gpa</th>\n",
       "    </tr>\n",
       "    <tr>\n",
       "      <th>admit</th>\n",
       "      <th></th>\n",
       "      <th></th>\n",
       "    </tr>\n",
       "  </thead>\n",
       "  <tbody>\n",
       "    <tr>\n",
       "      <td>0</td>\n",
       "      <td>119280</td>\n",
       "      <td>694.01</td>\n",
       "    </tr>\n",
       "    <tr>\n",
       "      <td>1</td>\n",
       "      <td>57980</td>\n",
       "      <td>321.86</td>\n",
       "    </tr>\n",
       "  </tbody>\n",
       "</table>\n",
       "</div>"
      ],
      "text/plain": [
       "          gre     gpa\n",
       "admit                \n",
       "0      119280  694.01\n",
       "1       57980  321.86"
      ]
     },
     "execution_count": 48,
     "metadata": {},
     "output_type": "execute_result"
    }
   ],
   "source": [
    "dfTrain.groupby('admit').sum()"
   ]
  },
  {
   "cell_type": "code",
   "execution_count": 49,
   "metadata": {
    "ExecuteTime": {
     "end_time": "2021-02-01T09:14:45.325436Z",
     "start_time": "2021-02-01T09:14:45.297456Z"
    }
   },
   "outputs": [
    {
     "data": {
      "text/html": [
       "<div>\n",
       "<style scoped>\n",
       "    .dataframe tbody tr th:only-of-type {\n",
       "        vertical-align: middle;\n",
       "    }\n",
       "\n",
       "    .dataframe tbody tr th {\n",
       "        vertical-align: top;\n",
       "    }\n",
       "\n",
       "    .dataframe thead th {\n",
       "        text-align: right;\n",
       "    }\n",
       "</style>\n",
       "<table border=\"1\" class=\"dataframe\">\n",
       "  <thead>\n",
       "    <tr style=\"text-align: right;\">\n",
       "      <th></th>\n",
       "      <th>gre</th>\n",
       "      <th>gpa</th>\n",
       "      <th>prestige</th>\n",
       "    </tr>\n",
       "    <tr>\n",
       "      <th>admit</th>\n",
       "      <th></th>\n",
       "      <th></th>\n",
       "      <th></th>\n",
       "    </tr>\n",
       "  </thead>\n",
       "  <tbody>\n",
       "    <tr>\n",
       "      <td>0</td>\n",
       "      <td>208</td>\n",
       "      <td>208</td>\n",
       "      <td>208</td>\n",
       "    </tr>\n",
       "    <tr>\n",
       "      <td>1</td>\n",
       "      <td>92</td>\n",
       "      <td>92</td>\n",
       "      <td>92</td>\n",
       "    </tr>\n",
       "  </tbody>\n",
       "</table>\n",
       "</div>"
      ],
      "text/plain": [
       "       gre  gpa  prestige\n",
       "admit                    \n",
       "0      208  208       208\n",
       "1       92   92        92"
      ]
     },
     "execution_count": 49,
     "metadata": {},
     "output_type": "execute_result"
    }
   ],
   "source": [
    "dfTrain.groupby('admit').count()"
   ]
  },
  {
   "cell_type": "code",
   "execution_count": 50,
   "metadata": {
    "ExecuteTime": {
     "end_time": "2021-02-01T09:14:46.060789Z",
     "start_time": "2021-02-01T09:14:46.042782Z"
    }
   },
   "outputs": [
    {
     "data": {
      "text/plain": [
       "admit\n",
       "0    208\n",
       "1     92\n",
       "dtype: int64"
      ]
     },
     "execution_count": 50,
     "metadata": {},
     "output_type": "execute_result"
    }
   ],
   "source": [
    "dfTrain.groupby('admit').size()"
   ]
  },
  {
   "cell_type": "code",
   "execution_count": 51,
   "metadata": {
    "ExecuteTime": {
     "end_time": "2021-02-01T09:14:46.714721Z",
     "start_time": "2021-02-01T09:14:46.693728Z"
    }
   },
   "outputs": [
    {
     "data": {
      "text/plain": [
       "array(['good', 'best', 'ok', 'veryGood'], dtype=object)"
      ]
     },
     "execution_count": 51,
     "metadata": {},
     "output_type": "execute_result"
    }
   ],
   "source": [
    "dfTrain.prestige.unique()"
   ]
  },
  {
   "cell_type": "code",
   "execution_count": 52,
   "metadata": {
    "ExecuteTime": {
     "end_time": "2021-02-01T09:14:47.417223Z",
     "start_time": "2021-02-01T09:14:47.399214Z"
    }
   },
   "outputs": [
    {
     "data": {
      "text/plain": [
       "4"
      ]
     },
     "execution_count": 52,
     "metadata": {},
     "output_type": "execute_result"
    }
   ],
   "source": [
    "dfTrain.prestige.nunique()"
   ]
  },
  {
   "cell_type": "code",
   "execution_count": 53,
   "metadata": {
    "ExecuteTime": {
     "end_time": "2021-02-01T09:14:48.917478Z",
     "start_time": "2021-02-01T09:14:48.399959Z"
    }
   },
   "outputs": [
    {
     "data": {
      "text/plain": [
       "<matplotlib.axes._subplots.AxesSubplot at 0x270fcc3e708>"
      ]
     },
     "execution_count": 53,
     "metadata": {},
     "output_type": "execute_result"
    },
    {
     "data": {
      "image/png": "[encoded data removed]",
      "text/plain": [
       "<Figure size 1224x576 with 1 Axes>"
      ]
     },
     "metadata": {
      "needs_background": "light"
     },
     "output_type": "display_data"
    }
   ],
   "source": [
    "dfTrain['gpa'].hist(figsize=(17,8))"
   ]
  },
  {
   "cell_type": "code",
   "execution_count": 54,
   "metadata": {
    "ExecuteTime": {
     "end_time": "2021-02-01T09:14:49.512530Z",
     "start_time": "2021-02-01T09:14:49.219677Z"
    }
   },
   "outputs": [
    {
     "data": {
      "text/plain": [
       "<matplotlib.axes._subplots.AxesSubplot at 0x270fc8c5b88>"
      ]
     },
     "execution_count": 54,
     "metadata": {},
     "output_type": "execute_result"
    },
    {
     "data": {
      "image/png": "[encoded data removed]",
      "text/plain": [
       "<Figure size 1224x576 with 1 Axes>"
      ]
     },
     "metadata": {
      "needs_background": "light"
     },
     "output_type": "display_data"
    }
   ],
   "source": [
    "dfTrain['gre'].hist(figsize=(17,8))"
   ]
  },
  {
   "cell_type": "code",
   "execution_count": 55,
   "metadata": {
    "ExecuteTime": {
     "end_time": "2021-02-01T09:14:50.682022Z",
     "start_time": "2021-02-01T09:14:50.636037Z"
    }
   },
   "outputs": [
    {
     "name": "stdout",
     "output_type": "stream",
     "text": [
      "prestige  best  good  ok  veryGood\n",
      "admit                             \n",
      "0           20    73  47        68\n",
      "1           25    19   9        39\n"
     ]
    }
   ],
   "source": [
    "print(pd.crosstab(dfTrain['admit'], dfTrain['prestige'], rownames=['admit']))"
   ]
  },
  {
   "cell_type": "code",
   "execution_count": 56,
   "metadata": {
    "ExecuteTime": {
     "end_time": "2021-02-01T09:14:55.549045Z",
     "start_time": "2021-02-01T09:14:55.508070Z"
    }
   },
   "outputs": [
    {
     "name": "stdout",
     "output_type": "stream",
     "text": [
      "admit      0   1\n",
      "prestige        \n",
      "best      20  25\n",
      "good      73  19\n",
      "ok        47   9\n",
      "veryGood  68  39\n"
     ]
    }
   ],
   "source": [
    "print(pd.crosstab(dfTrain['prestige'], dfTrain['admit'], rownames=['prestige']))"
   ]
  },
  {
   "cell_type": "code",
   "execution_count": 57,
   "metadata": {
    "ExecuteTime": {
     "end_time": "2021-02-01T09:14:57.396675Z",
     "start_time": "2021-02-01T09:14:56.802017Z"
    }
   },
   "outputs": [
    {
     "data": {
      "image/png": "[encoded data removed]",
      "text/plain": [
       "<Figure size 1368x648 with 1 Axes>"
      ]
     },
     "metadata": {
      "needs_background": "light"
     },
     "output_type": "display_data"
    }
   ],
   "source": [
    "pd.crosstab(dfTrain.gre, dfTrain.prestige).plot(kind='bar',figsize=(19,9))\n",
    "pl.title('GRE score by Admission Status')\n",
    "pl.xlabel('GRE score')\n",
    "pl.ylabel('Frequency')\n",
    "pl.show()"
   ]
  },
  {
   "cell_type": "code",
   "execution_count": 58,
   "metadata": {
    "ExecuteTime": {
     "end_time": "2021-02-01T09:14:59.950545Z",
     "start_time": "2021-02-01T09:14:57.483241Z"
    }
   },
   "outputs": [
    {
     "data": {
      "image/png": "[encoded data removed]",
      "text/plain": [
       "<Figure size 1368x648 with 1 Axes>"
      ]
     },
     "metadata": {
      "needs_background": "light"
     },
     "output_type": "display_data"
    }
   ],
   "source": [
    "pd.crosstab(dfTrain.gpa, dfTrain.prestige).plot(kind='bar',figsize=(19,9))\n",
    "pl.title('GPA score by Admission Status')\n",
    "pl.xlabel('GPA score')\n",
    "pl.ylabel('Frequency')\n",
    "pl.show()"
   ]
  },
  {
   "cell_type": "code",
   "execution_count": 59,
   "metadata": {
    "ExecuteTime": {
     "end_time": "2021-02-01T09:15:01.904066Z",
     "start_time": "2021-02-01T09:14:59.955522Z"
    }
   },
   "outputs": [
    {
     "data": {
      "image/png": "[encoded data removed]",
      "text/plain": [
       "<Figure size 1368x648 with 1 Axes>"
      ]
     },
     "metadata": {
      "needs_background": "light"
     },
     "output_type": "display_data"
    }
   ],
   "source": [
    "pd.crosstab(dfTrain.gpa, dfTrain.admit.astype(bool)).plot(kind='bar',figsize=(19,9))\n",
    "pl.title('GPA score by Admission Status')\n",
    "pl.xlabel('GPA score')\n",
    "pl.ylabel('Frequency')\n",
    "pl.show()"
   ]
  },
  {
   "cell_type": "code",
   "execution_count": 60,
   "metadata": {
    "ExecuteTime": {
     "end_time": "2021-02-01T09:15:02.398796Z",
     "start_time": "2021-02-01T09:15:01.908051Z"
    }
   },
   "outputs": [
    {
     "data": {
      "image/png": "[encoded data removed]",
      "text/plain": [
       "<Figure size 1368x648 with 1 Axes>"
      ]
     },
     "metadata": {
      "needs_background": "light"
     },
     "output_type": "display_data"
    }
   ],
   "source": [
    "pd.crosstab(dfTrain.gre, dfTrain.admit.astype(bool)).plot(kind='bar',figsize=(19,9))\n",
    "pl.title('GPA score by Admission Status')\n",
    "pl.xlabel('GPA score')\n",
    "pl.ylabel('Frequency')\n",
    "pl.show()"
   ]
  },
  {
   "cell_type": "code",
   "execution_count": 61,
   "metadata": {
    "ExecuteTime": {
     "end_time": "2021-02-01T09:15:02.413792Z",
     "start_time": "2021-02-01T09:15:02.401800Z"
    }
   },
   "outputs": [
    {
     "name": "stdout",
     "output_type": "stream",
     "text": [
      "admit\n",
      "0    208\n",
      "1     92\n",
      "dtype: int64\n"
     ]
    }
   ],
   "source": [
    "mydata=dfTrain.groupby('admit').size()\n",
    "print(mydata)"
   ]
  },
  {
   "cell_type": "code",
   "execution_count": 62,
   "metadata": {
    "ExecuteTime": {
     "end_time": "2021-02-01T09:15:02.445776Z",
     "start_time": "2021-02-01T09:15:02.418789Z"
    }
   },
   "outputs": [
    {
     "name": "stdout",
     "output_type": "stream",
     "text": [
      "prestige\n",
      "best         45\n",
      "good         92\n",
      "ok           56\n",
      "veryGood    107\n",
      "dtype: int64\n"
     ]
    }
   ],
   "source": [
    "mydata=dfTrain.groupby('prestige').size()\n",
    "print(mydata)"
   ]
  },
  {
   "cell_type": "markdown",
   "metadata": {},
   "source": [
    "dfTrain.corr(method='pearson')"
   ]
  },
  {
   "cell_type": "code",
   "execution_count": 39,
   "metadata": {
    "ExecuteTime": {
     "end_time": "2021-02-01T09:13:50.283870Z",
     "start_time": "2021-02-01T09:13:50.256886Z"
    }
   },
   "outputs": [
    {
     "data": {
      "text/html": [
       "<div>\n",
       "<style scoped>\n",
       "    .dataframe tbody tr th:only-of-type {\n",
       "        vertical-align: middle;\n",
       "    }\n",
       "\n",
       "    .dataframe tbody tr th {\n",
       "        vertical-align: top;\n",
       "    }\n",
       "\n",
       "    .dataframe thead th {\n",
       "        text-align: right;\n",
       "    }\n",
       "</style>\n",
       "<table border=\"1\" class=\"dataframe\">\n",
       "  <thead>\n",
       "    <tr style=\"text-align: right;\">\n",
       "      <th></th>\n",
       "      <th>admit</th>\n",
       "      <th>gre</th>\n",
       "      <th>gpa</th>\n",
       "    </tr>\n",
       "  </thead>\n",
       "  <tbody>\n",
       "    <tr>\n",
       "      <td>admit</td>\n",
       "      <td>1.000000</td>\n",
       "      <td>0.222689</td>\n",
       "      <td>0.199463</td>\n",
       "    </tr>\n",
       "    <tr>\n",
       "      <td>gre</td>\n",
       "      <td>0.222689</td>\n",
       "      <td>1.000000</td>\n",
       "      <td>0.377243</td>\n",
       "    </tr>\n",
       "    <tr>\n",
       "      <td>gpa</td>\n",
       "      <td>0.199463</td>\n",
       "      <td>0.377243</td>\n",
       "      <td>1.000000</td>\n",
       "    </tr>\n",
       "  </tbody>\n",
       "</table>\n",
       "</div>"
      ],
      "text/plain": [
       "          admit       gre       gpa\n",
       "admit  1.000000  0.222689  0.199463\n",
       "gre    0.222689  1.000000  0.377243\n",
       "gpa    0.199463  0.377243  1.000000"
      ]
     },
     "execution_count": 39,
     "metadata": {},
     "output_type": "execute_result"
    }
   ],
   "source": [
    "dfTrain.corr(method='pearson')"
   ]
  },
  {
   "cell_type": "code",
   "execution_count": 40,
   "metadata": {
    "ExecuteTime": {
     "end_time": "2021-02-01T09:13:51.273536Z",
     "start_time": "2021-02-01T09:13:51.262541Z"
    }
   },
   "outputs": [
    {
     "data": {
      "text/plain": [
       "admit         int64\n",
       "gre           int64\n",
       "gpa         float64\n",
       "prestige     object\n",
       "dtype: object"
      ]
     },
     "execution_count": 40,
     "metadata": {},
     "output_type": "execute_result"
    }
   ],
   "source": [
    "dfTrain.dtypes"
   ]
  },
  {
   "cell_type": "code",
   "execution_count": 26,
   "metadata": {
    "ExecuteTime": {
     "end_time": "2021-02-01T09:09:25.059802Z",
     "start_time": "2021-02-01T09:09:25.038813Z"
    }
   },
   "outputs": [
    {
     "data": {
      "text/plain": [
       "admit    0.842776\n",
       "gre     -0.118480\n",
       "gpa     -0.189184\n",
       "dtype: float64"
      ]
     },
     "execution_count": 26,
     "metadata": {},
     "output_type": "execute_result"
    }
   ],
   "source": [
    "dfTrain.skew()"
   ]
  },
  {
   "cell_type": "code",
   "execution_count": 27,
   "metadata": {
    "ExecuteTime": {
     "end_time": "2021-02-01T09:09:26.175138Z",
     "start_time": "2021-02-01T09:09:26.152152Z"
    }
   },
   "outputs": [
    {
     "data": {
      "text/plain": [
       "admit   -1.298429\n",
       "gre     -0.556945\n",
       "gpa     -0.503985\n",
       "dtype: float64"
      ]
     },
     "execution_count": 27,
     "metadata": {},
     "output_type": "execute_result"
    }
   ],
   "source": [
    "dfTrain.kurt()"
   ]
  },
  {
   "cell_type": "code",
   "execution_count": 28,
   "metadata": {
    "ExecuteTime": {
     "end_time": "2021-02-01T09:09:27.423674Z",
     "start_time": "2021-02-01T09:09:26.902186Z"
    }
   },
   "outputs": [
    {
     "data": {
      "text/plain": [
       "array([[<matplotlib.axes._subplots.AxesSubplot object at 0x00000270F9CF1D88>,\n",
       "        <matplotlib.axes._subplots.AxesSubplot object at 0x00000270F9DE1748>],\n",
       "       [<matplotlib.axes._subplots.AxesSubplot object at 0x00000270F9E04348>,\n",
       "        <matplotlib.axes._subplots.AxesSubplot object at 0x00000270F9E3D488>]],\n",
       "      dtype=object)"
      ]
     },
     "execution_count": 28,
     "metadata": {},
     "output_type": "execute_result"
    },
    {
     "data": {
      "image/png": "[encoded data removed]",
      "text/plain": [
       "<Figure size 432x288 with 4 Axes>"
      ]
     },
     "metadata": {
      "needs_background": "light"
     },
     "output_type": "display_data"
    }
   ],
   "source": [
    "dfTrain.hist()"
   ]
  },
  {
   "cell_type": "code",
   "execution_count": 29,
   "metadata": {
    "ExecuteTime": {
     "end_time": "2021-02-01T09:09:28.384186Z",
     "start_time": "2021-02-01T09:09:27.633638Z"
    }
   },
   "outputs": [
    {
     "data": {
      "text/plain": [
       "array([[<matplotlib.axes._subplots.AxesSubplot object at 0x00000270F9FBED08>,\n",
       "        <matplotlib.axes._subplots.AxesSubplot object at 0x00000270FA00C908>],\n",
       "       [<matplotlib.axes._subplots.AxesSubplot object at 0x00000270FA03DFC8>,\n",
       "        <matplotlib.axes._subplots.AxesSubplot object at 0x00000270FA078A08>]],\n",
       "      dtype=object)"
      ]
     },
     "execution_count": 29,
     "metadata": {},
     "output_type": "execute_result"
    },
    {
     "data": {
      "image/png": "[encoded data removed]",
      "text/plain": [
       "<Figure size 1080x1224 with 4 Axes>"
      ]
     },
     "metadata": {
      "needs_background": "light"
     },
     "output_type": "display_data"
    }
   ],
   "source": [
    "x = dfTrain.hist(figsize=(15,17))\n",
    "x"
   ]
  },
  {
   "cell_type": "code",
   "execution_count": 30,
   "metadata": {
    "ExecuteTime": {
     "end_time": "2021-02-01T09:09:29.057619Z",
     "start_time": "2021-02-01T09:09:28.554908Z"
    }
   },
   "outputs": [
    {
     "data": {
      "text/plain": [
       "admit       AxesSubplot(0.125,0.125;0.227941x0.755)\n",
       "gre      AxesSubplot(0.398529,0.125;0.227941x0.755)\n",
       "gpa      AxesSubplot(0.672059,0.125;0.227941x0.755)\n",
       "dtype: object"
      ]
     },
     "execution_count": 30,
     "metadata": {},
     "output_type": "execute_result"
    },
    {
     "data": {
      "image/png": "[encoded data removed]",
      "text/plain": [
       "<Figure size 1224x576 with 3 Axes>"
      ]
     },
     "metadata": {
      "needs_background": "light"
     },
     "output_type": "display_data"
    }
   ],
   "source": [
    "dfTrain.plot(kind='box', subplots = True, figsize=(17,8))"
   ]
  },
  {
   "cell_type": "code",
   "execution_count": 31,
   "metadata": {
    "ExecuteTime": {
     "end_time": "2021-02-01T09:09:30.199934Z",
     "start_time": "2021-02-01T09:09:29.964465Z"
    }
   },
   "outputs": [
    {
     "data": {
      "image/png": "[encoded data removed]",
      "text/plain": [
       "<Figure size 432x288 with 2 Axes>"
      ]
     },
     "metadata": {
      "needs_background": "light"
     },
     "output_type": "display_data"
    }
   ],
   "source": [
    "correlations = dfTrain.corr()\n",
    "# plot correlation matrix\n",
    "fig = plt.figure()\n",
    "ax = fig.add_subplot(111)\n",
    "cax = ax.matshow(correlations, vmin=-1, vmax=1)\n",
    "fig.colorbar(cax)\n",
    "ticks = numpy.arange(0,9,1)\n",
    "#ax.set_xticks(ticks)\n",
    "#ax.set_yticks(ticks)\n",
    "#ax.set_xticklabels(names)\n",
    "#ax.set_yticklabels(names)\n",
    "#plt.show()"
   ]
  },
  {
   "cell_type": "code",
   "execution_count": null,
   "metadata": {},
   "outputs": [],
   "source": []
  },
  {
   "cell_type": "code",
   "execution_count": null,
   "metadata": {},
   "outputs": [],
   "source": []
  }
 ],
 "metadata": {
  "kernelspec": {
   "display_name": "Python 3",
   "language": "python",
   "name": "python3"
  },
  "language_info": {
   "codemirror_mode": {
    "name": "ipython",
    "version": 3
   },
   "file_extension": ".py",
   "mimetype": "text/x-python",
   "name": "python",
   "nbconvert_exporter": "python",
   "pygments_lexer": "ipython3",
   "version": "3.7.4"
  }
 },
 "nbformat": 4,
 "nbformat_minor": 2
}
