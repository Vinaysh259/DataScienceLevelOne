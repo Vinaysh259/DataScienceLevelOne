{
 "cells": [
  {
   "cell_type": "markdown",
   "metadata": {},
   "source": [
    "# import modules"
   ]
  },
  {
   "cell_type": "code",
   "execution_count": 1,
   "metadata": {
    "ExecuteTime": {
     "end_time": "2021-02-01T02:25:08.519067Z",
     "start_time": "2021-02-01T02:25:07.390389Z"
    }
   },
   "outputs": [],
   "source": [
    "import matplotlib.pyplot as plt\n",
    "from numpy import set_printoptions\n",
    "from pandas import read_csv"
   ]
  },
  {
   "cell_type": "markdown",
   "metadata": {},
   "source": [
    "# read data"
   ]
  },
  {
   "cell_type": "code",
   "execution_count": 2,
   "metadata": {
    "ExecuteTime": {
     "end_time": "2021-02-01T02:25:24.382295Z",
     "start_time": "2021-02-01T02:25:24.280182Z"
    }
   },
   "outputs": [],
   "source": [
    "#filename = 'C:\\\\Users\\\\Gururajan\\\\Downloads\\\\daily_retail_price_Onion-upto_apr_2015.csv '\n",
    "names = ['Date','Centre_Name','Commodity_Name','Price']\n",
    "oniondata = read_csv('daily_Onion_retail_price_upto_apr_2015_dataset.csv', names = names)"
   ]
  },
  {
   "cell_type": "code",
   "execution_count": 3,
   "metadata": {
    "ExecuteTime": {
     "end_time": "2021-02-01T02:25:27.277978Z",
     "start_time": "2021-02-01T02:25:27.254991Z"
    }
   },
   "outputs": [],
   "source": [
    "filename = \"pima_indians_dataset.csv\"\n",
    "names = ['preg', 'plas', 'pres', 'skin', 'test', 'mass', 'pedi', 'age', 'class']\n",
    "pimaindiansdata = read_csv('pima_indians_dataset.csv', names = names)"
   ]
  },
  {
   "cell_type": "markdown",
   "metadata": {},
   "source": [
    "# what is the percentage number of days in which the onion price                  was minimum"
   ]
  },
  {
   "cell_type": "markdown",
   "metadata": {},
   "source": [
    "# what is the percentage number of days in which the onion price                          was minimum"
   ]
  },
  {
   "cell_type": "markdown",
   "metadata": {},
   "source": [
    "# What is the percentage number of days in which the onion price was greater than 20 and less than 40"
   ]
  },
  {
   "cell_type": "markdown",
   "metadata": {},
   "source": [
    "# find the unique names of cities where onion price was maximum and minimum"
   ]
  },
  {
   "cell_type": "markdown",
   "metadata": {},
   "source": [
    "# onion price analysis assignment answer "
   ]
  },
  {
   "cell_type": "code",
   "execution_count": 4,
   "metadata": {
    "ExecuteTime": {
     "end_time": "2020-09-15T09:05:14.809325Z",
     "start_time": "2020-09-15T09:05:14.768348Z"
    }
   },
   "outputs": [
    {
     "data": {
      "text/html": [
       "<div>\n",
       "<style scoped>\n",
       "    .dataframe tbody tr th:only-of-type {\n",
       "        vertical-align: middle;\n",
       "    }\n",
       "\n",
       "    .dataframe tbody tr th {\n",
       "        vertical-align: top;\n",
       "    }\n",
       "\n",
       "    .dataframe thead th {\n",
       "        text-align: right;\n",
       "    }\n",
       "</style>\n",
       "<table border=\"1\" class=\"dataframe\">\n",
       "  <thead>\n",
       "    <tr style=\"text-align: right;\">\n",
       "      <th></th>\n",
       "      <th>Date</th>\n",
       "      <th>Centre_Name</th>\n",
       "      <th>Commodity_Name</th>\n",
       "      <th>Price</th>\n",
       "    </tr>\n",
       "  </thead>\n",
       "  <tbody>\n",
       "    <tr>\n",
       "      <td>0</td>\n",
       "      <td>25-11-97</td>\n",
       "      <td>DELHI</td>\n",
       "      <td>Onion</td>\n",
       "      <td>8.0</td>\n",
       "    </tr>\n",
       "    <tr>\n",
       "      <td>1</td>\n",
       "      <td>25-11-97</td>\n",
       "      <td>SHIMLA</td>\n",
       "      <td>Onion</td>\n",
       "      <td>7.0</td>\n",
       "    </tr>\n",
       "    <tr>\n",
       "      <td>2</td>\n",
       "      <td>25-11-97</td>\n",
       "      <td>LUCKNOW</td>\n",
       "      <td>Onion</td>\n",
       "      <td>5.0</td>\n",
       "    </tr>\n",
       "    <tr>\n",
       "      <td>3</td>\n",
       "      <td>25-11-97</td>\n",
       "      <td>AHMEDABAD</td>\n",
       "      <td>Onion</td>\n",
       "      <td>6.0</td>\n",
       "    </tr>\n",
       "    <tr>\n",
       "      <td>4</td>\n",
       "      <td>25-11-97</td>\n",
       "      <td>BHOPAL</td>\n",
       "      <td>Onion</td>\n",
       "      <td>8.0</td>\n",
       "    </tr>\n",
       "    <tr>\n",
       "      <td>...</td>\n",
       "      <td>...</td>\n",
       "      <td>...</td>\n",
       "      <td>...</td>\n",
       "      <td>...</td>\n",
       "    </tr>\n",
       "    <tr>\n",
       "      <td>127906</td>\n",
       "      <td>28-04-15</td>\n",
       "      <td>DINDIGUL</td>\n",
       "      <td>Onion</td>\n",
       "      <td>18.0</td>\n",
       "    </tr>\n",
       "    <tr>\n",
       "      <td>127907</td>\n",
       "      <td>28-04-15</td>\n",
       "      <td>THIRUCHIRAPALLI</td>\n",
       "      <td>Onion</td>\n",
       "      <td>18.0</td>\n",
       "    </tr>\n",
       "    <tr>\n",
       "      <td>127908</td>\n",
       "      <td>28-04-15</td>\n",
       "      <td>COIMBATORE</td>\n",
       "      <td>Onion</td>\n",
       "      <td>18.0</td>\n",
       "    </tr>\n",
       "    <tr>\n",
       "      <td>127909</td>\n",
       "      <td>28-04-15</td>\n",
       "      <td>TIRUNELVELI</td>\n",
       "      <td>Onion</td>\n",
       "      <td>18.0</td>\n",
       "    </tr>\n",
       "    <tr>\n",
       "      <td>127910</td>\n",
       "      <td>28-04-15</td>\n",
       "      <td>HYDERABAD</td>\n",
       "      <td>Onion</td>\n",
       "      <td>22.0</td>\n",
       "    </tr>\n",
       "  </tbody>\n",
       "</table>\n",
       "<p>127911 rows × 4 columns</p>\n",
       "</div>"
      ],
      "text/plain": [
       "            Date      Centre_Name Commodity_Name  Price\n",
       "0       25-11-97            DELHI          Onion    8.0\n",
       "1       25-11-97           SHIMLA          Onion    7.0\n",
       "2       25-11-97          LUCKNOW          Onion    5.0\n",
       "3       25-11-97        AHMEDABAD          Onion    6.0\n",
       "4       25-11-97           BHOPAL          Onion    8.0\n",
       "...          ...              ...            ...    ...\n",
       "127906  28-04-15         DINDIGUL          Onion   18.0\n",
       "127907  28-04-15  THIRUCHIRAPALLI          Onion   18.0\n",
       "127908  28-04-15       COIMBATORE          Onion   18.0\n",
       "127909  28-04-15      TIRUNELVELI          Onion   18.0\n",
       "127910  28-04-15        HYDERABAD          Onion   22.0\n",
       "\n",
       "[127911 rows x 4 columns]"
      ]
     },
     "execution_count": 4,
     "metadata": {},
     "output_type": "execute_result"
    }
   ],
   "source": [
    "oniondata"
   ]
  },
  {
   "cell_type": "code",
   "execution_count": 5,
   "metadata": {
    "ExecuteTime": {
     "end_time": "2020-09-15T09:05:16.098072Z",
     "start_time": "2020-09-15T09:05:16.070087Z"
    }
   },
   "outputs": [
    {
     "data": {
      "text/plain": [
       "Commodity_Name\n",
       "Onion    127911\n",
       "dtype: int64"
      ]
     },
     "execution_count": 5,
     "metadata": {},
     "output_type": "execute_result"
    }
   ],
   "source": [
    "oniondata.groupby(by=\"Commodity_Name\").size()"
   ]
  },
  {
   "cell_type": "code",
   "execution_count": 6,
   "metadata": {
    "ExecuteTime": {
     "end_time": "2020-09-15T09:05:16.676765Z",
     "start_time": "2020-09-15T09:05:16.614805Z"
    }
   },
   "outputs": [
    {
     "data": {
      "text/html": [
       "<div>\n",
       "<style scoped>\n",
       "    .dataframe tbody tr th:only-of-type {\n",
       "        vertical-align: middle;\n",
       "    }\n",
       "\n",
       "    .dataframe tbody tr th {\n",
       "        vertical-align: top;\n",
       "    }\n",
       "\n",
       "    .dataframe thead th {\n",
       "        text-align: right;\n",
       "    }\n",
       "</style>\n",
       "<table border=\"1\" class=\"dataframe\">\n",
       "  <thead>\n",
       "    <tr style=\"text-align: right;\">\n",
       "      <th></th>\n",
       "      <th>Date</th>\n",
       "      <th>Centre_Name</th>\n",
       "      <th>Price</th>\n",
       "    </tr>\n",
       "    <tr>\n",
       "      <th>Commodity_Name</th>\n",
       "      <th></th>\n",
       "      <th></th>\n",
       "      <th></th>\n",
       "    </tr>\n",
       "  </thead>\n",
       "  <tbody>\n",
       "    <tr>\n",
       "      <td>Onion</td>\n",
       "      <td>127911</td>\n",
       "      <td>127911</td>\n",
       "      <td>115991</td>\n",
       "    </tr>\n",
       "  </tbody>\n",
       "</table>\n",
       "</div>"
      ],
      "text/plain": [
       "                  Date  Centre_Name   Price\n",
       "Commodity_Name                             \n",
       "Onion           127911       127911  115991"
      ]
     },
     "execution_count": 6,
     "metadata": {},
     "output_type": "execute_result"
    }
   ],
   "source": [
    "oniondata.groupby(by=\"Commodity_Name\").count()"
   ]
  },
  {
   "cell_type": "code",
   "execution_count": 7,
   "metadata": {
    "ExecuteTime": {
     "end_time": "2020-09-15T03:14:07.509908Z",
     "start_time": "2020-09-15T03:14:07.456940Z"
    }
   },
   "outputs": [
    {
     "data": {
      "text/plain": [
       "127911"
      ]
     },
     "execution_count": 7,
     "metadata": {},
     "output_type": "execute_result"
    }
   ],
   "source": [
    "oniondata.count()[0]"
   ]
  },
  {
   "cell_type": "code",
   "execution_count": 8,
   "metadata": {
    "ExecuteTime": {
     "end_time": "2020-09-15T03:14:08.683336Z",
     "start_time": "2020-09-15T03:14:08.646356Z"
    }
   },
   "outputs": [
    {
     "data": {
      "text/plain": [
       "127911"
      ]
     },
     "execution_count": 8,
     "metadata": {},
     "output_type": "execute_result"
    }
   ],
   "source": [
    "y = oniondata.groupby(by=\"Commodity_Name\").size()[0]\n",
    "y"
   ]
  },
  {
   "cell_type": "code",
   "execution_count": 7,
   "metadata": {
    "ExecuteTime": {
     "end_time": "2020-09-15T09:06:38.388047Z",
     "start_time": "2020-09-15T09:06:38.357064Z"
    }
   },
   "outputs": [
    {
     "data": {
      "text/plain": [
       "20847"
      ]
     },
     "execution_count": 7,
     "metadata": {},
     "output_type": "execute_result"
    }
   ],
   "source": [
    "x = oniondata[(oniondata.Price > 20) & (oniondata.Price < 40)].count()[0]\n",
    "x"
   ]
  },
  {
   "cell_type": "code",
   "execution_count": 10,
   "metadata": {
    "ExecuteTime": {
     "end_time": "2020-09-15T03:14:11.350434Z",
     "start_time": "2020-09-15T03:14:11.328446Z"
    }
   },
   "outputs": [
    {
     "data": {
      "text/plain": [
       "16.298050988577995"
      ]
     },
     "execution_count": 10,
     "metadata": {},
     "output_type": "execute_result"
    }
   ],
   "source": [
    "x / y * 100"
   ]
  },
  {
   "cell_type": "code",
   "execution_count": 11,
   "metadata": {
    "ExecuteTime": {
     "end_time": "2020-09-15T03:14:12.253602Z",
     "start_time": "2020-09-15T03:14:12.229619Z"
    }
   },
   "outputs": [
    {
     "data": {
      "text/plain": [
       "2541"
      ]
     },
     "execution_count": 11,
     "metadata": {},
     "output_type": "execute_result"
    }
   ],
   "source": [
    "x = oniondata[(oniondata.Price > 50)].count()[0]\n",
    "x"
   ]
  },
  {
   "cell_type": "code",
   "execution_count": 12,
   "metadata": {
    "ExecuteTime": {
     "end_time": "2020-09-15T03:14:17.843925Z",
     "start_time": "2020-09-15T03:14:17.834930Z"
    }
   },
   "outputs": [
    {
     "data": {
      "text/plain": [
       "1.9865375143654571"
      ]
     },
     "execution_count": 12,
     "metadata": {},
     "output_type": "execute_result"
    }
   ],
   "source": [
    "x / y * 100"
   ]
  },
  {
   "cell_type": "code",
   "execution_count": 5,
   "metadata": {
    "ExecuteTime": {
     "end_time": "2021-02-01T02:30:57.453682Z",
     "start_time": "2021-02-01T02:30:57.429694Z"
    }
   },
   "outputs": [
    {
     "name": "stdout",
     "output_type": "stream",
     "text": [
      "100.0\n"
     ]
    }
   ],
   "source": [
    "maxprice = oniondata['Price'].max()\n",
    "print(maxprice)"
   ]
  },
  {
   "cell_type": "code",
   "execution_count": 14,
   "metadata": {
    "ExecuteTime": {
     "end_time": "2020-09-15T03:14:25.739877Z",
     "start_time": "2020-09-15T03:14:25.724884Z"
    }
   },
   "outputs": [
    {
     "name": "stdout",
     "output_type": "stream",
     "text": [
      "2.0\n"
     ]
    }
   ],
   "source": [
    "minprice = oniondata['Price'].min()\n",
    "print(minprice)"
   ]
  },
  {
   "cell_type": "code",
   "execution_count": 15,
   "metadata": {
    "ExecuteTime": {
     "end_time": "2020-09-15T03:14:27.826188Z",
     "start_time": "2020-09-15T03:14:27.805199Z"
    }
   },
   "outputs": [
    {
     "data": {
      "text/plain": [
       "18"
      ]
     },
     "execution_count": 15,
     "metadata": {},
     "output_type": "execute_result"
    }
   ],
   "source": [
    "x = oniondata[(oniondata.Price == maxprice)].count()[0]\n",
    "x"
   ]
  },
  {
   "cell_type": "code",
   "execution_count": 16,
   "metadata": {
    "ExecuteTime": {
     "end_time": "2020-09-15T03:14:29.258809Z",
     "start_time": "2020-09-15T03:14:29.242819Z"
    }
   },
   "outputs": [
    {
     "data": {
      "text/plain": [
       "0.014072284635410558"
      ]
     },
     "execution_count": 16,
     "metadata": {},
     "output_type": "execute_result"
    }
   ],
   "source": [
    "x / y * 100"
   ]
  },
  {
   "cell_type": "code",
   "execution_count": 17,
   "metadata": {
    "ExecuteTime": {
     "end_time": "2020-09-15T03:14:32.046722Z",
     "start_time": "2020-09-15T03:14:32.030732Z"
    }
   },
   "outputs": [
    {
     "data": {
      "text/plain": [
       "92"
      ]
     },
     "execution_count": 17,
     "metadata": {},
     "output_type": "execute_result"
    }
   ],
   "source": [
    "x = oniondata[(oniondata.Price == minprice)].count()[0]\n",
    "x"
   ]
  },
  {
   "cell_type": "code",
   "execution_count": 18,
   "metadata": {
    "ExecuteTime": {
     "end_time": "2020-09-15T03:14:39.225995Z",
     "start_time": "2020-09-15T03:14:39.207007Z"
    }
   },
   "outputs": [
    {
     "data": {
      "text/plain": [
       "0.07192501035876507"
      ]
     },
     "execution_count": 18,
     "metadata": {},
     "output_type": "execute_result"
    }
   ],
   "source": [
    "x / y * 100"
   ]
  },
  {
   "cell_type": "code",
   "execution_count": 19,
   "metadata": {
    "ExecuteTime": {
     "end_time": "2020-09-15T03:14:40.367271Z",
     "start_time": "2020-09-15T03:14:40.345284Z"
    }
   },
   "outputs": [
    {
     "data": {
      "text/plain": [
       "0.07192501035876507"
      ]
     },
     "execution_count": 19,
     "metadata": {},
     "output_type": "execute_result"
    }
   ],
   "source": [
    "x / y * 100"
   ]
  },
  {
   "cell_type": "code",
   "execution_count": 20,
   "metadata": {
    "ExecuteTime": {
     "end_time": "2020-09-15T03:14:44.826224Z",
     "start_time": "2020-09-15T03:14:44.802235Z"
    }
   },
   "outputs": [
    {
     "name": "stdout",
     "output_type": "stream",
     "text": [
      "2.0\n",
      "100.0\n"
     ]
    }
   ],
   "source": [
    "minprice = oniondata['Price'].min()\n",
    "maxprice = oniondata['Price'].max()\n",
    "\n",
    "print(minprice)\n",
    "print(maxprice)"
   ]
  },
  {
   "cell_type": "code",
   "execution_count": 21,
   "metadata": {
    "ExecuteTime": {
     "end_time": "2020-09-14T07:21:34.767690Z",
     "start_time": "2020-09-14T07:21:34.755701Z"
    }
   },
   "outputs": [
    {
     "data": {
      "text/plain": [
       "Commodity_Name\n",
       "Onion    92\n",
       "dtype: int64"
      ]
     },
     "execution_count": 21,
     "metadata": {},
     "output_type": "execute_result"
    }
   ],
   "source": [
    "oniondata[oniondata.Price ==  minprice].groupby(by=\"Commodity_Name\").size()"
   ]
  },
  {
   "cell_type": "code",
   "execution_count": 6,
   "metadata": {
    "ExecuteTime": {
     "end_time": "2021-02-01T02:31:00.513793Z",
     "start_time": "2021-02-01T02:31:00.493807Z"
    }
   },
   "outputs": [
    {
     "name": "stdout",
     "output_type": "stream",
     "text": [
      "['AIZWAL']\n"
     ]
    }
   ],
   "source": [
    "print(oniondata[oniondata.Price == maxprice].Centre_Name.unique())"
   ]
  },
  {
   "cell_type": "markdown",
   "metadata": {},
   "source": [
    "print(oniondata[oniondata.Price == price].Centre_Name.unique())"
   ]
  }
 ],
 "metadata": {
  "kernelspec": {
   "display_name": "Python 3",
   "language": "python",
   "name": "python3"
  },
  "language_info": {
   "codemirror_mode": {
    "name": "ipython",
    "version": 3
   },
   "file_extension": ".py",
   "mimetype": "text/x-python",
   "name": "python",
   "nbconvert_exporter": "python",
   "pygments_lexer": "ipython3",
   "version": "3.7.4"
  }
 },
 "nbformat": 4,
 "nbformat_minor": 2
}
