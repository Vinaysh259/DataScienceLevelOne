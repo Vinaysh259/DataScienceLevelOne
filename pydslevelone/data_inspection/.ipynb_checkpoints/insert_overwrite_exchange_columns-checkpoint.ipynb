{
 "cells": [
  {
   "cell_type": "markdown",
   "metadata": {},
   "source": [
    "# import modules"
   ]
  },
  {
   "cell_type": "code",
   "execution_count": 1,
   "metadata": {
    "ExecuteTime": {
     "end_time": "2021-02-17T02:11:46.347393Z",
     "start_time": "2021-02-17T02:11:45.323863Z"
    }
   },
   "outputs": [],
   "source": [
    "from pandas import read_csv\n",
    "import pandas as pd"
   ]
  },
  {
   "cell_type": "markdown",
   "metadata": {},
   "source": [
    "# read the csv file"
   ]
  },
  {
   "cell_type": "code",
   "execution_count": 2,
   "metadata": {
    "ExecuteTime": {
     "end_time": "2021-02-17T02:11:46.704684Z",
     "start_time": "2021-02-17T02:11:46.593645Z"
    }
   },
   "outputs": [],
   "source": [
    "filename = 'daily_retail_price_Onion-upto_apr_2015.csv'\n",
    "header_names = ['Date','Centre_Name','Commodity_Name','Price']\n",
    "data = read_csv(filename,names = header_names)"
   ]
  },
  {
   "cell_type": "markdown",
   "metadata": {},
   "source": [
    "# display the data"
   ]
  },
  {
   "cell_type": "code",
   "execution_count": 3,
   "metadata": {
    "ExecuteTime": {
     "end_time": "2021-02-17T02:11:48.010074Z",
     "start_time": "2021-02-17T02:11:47.975092Z"
    },
    "scrolled": true
   },
   "outputs": [
    {
     "data": {
      "text/html": [
       "<div>\n",
       "<style scoped>\n",
       "    .dataframe tbody tr th:only-of-type {\n",
       "        vertical-align: middle;\n",
       "    }\n",
       "\n",
       "    .dataframe tbody tr th {\n",
       "        vertical-align: top;\n",
       "    }\n",
       "\n",
       "    .dataframe thead th {\n",
       "        text-align: right;\n",
       "    }\n",
       "</style>\n",
       "<table border=\"1\" class=\"dataframe\">\n",
       "  <thead>\n",
       "    <tr style=\"text-align: right;\">\n",
       "      <th></th>\n",
       "      <th>Date</th>\n",
       "      <th>Centre_Name</th>\n",
       "      <th>Commodity_Name</th>\n",
       "      <th>Price</th>\n",
       "    </tr>\n",
       "  </thead>\n",
       "  <tbody>\n",
       "    <tr>\n",
       "      <td>0</td>\n",
       "      <td>25-11-97</td>\n",
       "      <td>DELHI</td>\n",
       "      <td>Onion</td>\n",
       "      <td>8.0</td>\n",
       "    </tr>\n",
       "    <tr>\n",
       "      <td>1</td>\n",
       "      <td>25-11-97</td>\n",
       "      <td>SHIMLA</td>\n",
       "      <td>Onion</td>\n",
       "      <td>7.0</td>\n",
       "    </tr>\n",
       "    <tr>\n",
       "      <td>2</td>\n",
       "      <td>25-11-97</td>\n",
       "      <td>LUCKNOW</td>\n",
       "      <td>Onion</td>\n",
       "      <td>5.0</td>\n",
       "    </tr>\n",
       "    <tr>\n",
       "      <td>3</td>\n",
       "      <td>25-11-97</td>\n",
       "      <td>AHMEDABAD</td>\n",
       "      <td>Onion</td>\n",
       "      <td>6.0</td>\n",
       "    </tr>\n",
       "    <tr>\n",
       "      <td>4</td>\n",
       "      <td>25-11-97</td>\n",
       "      <td>BHOPAL</td>\n",
       "      <td>Onion</td>\n",
       "      <td>8.0</td>\n",
       "    </tr>\n",
       "    <tr>\n",
       "      <td>...</td>\n",
       "      <td>...</td>\n",
       "      <td>...</td>\n",
       "      <td>...</td>\n",
       "      <td>...</td>\n",
       "    </tr>\n",
       "    <tr>\n",
       "      <td>127906</td>\n",
       "      <td>28-04-15</td>\n",
       "      <td>DINDIGUL</td>\n",
       "      <td>Onion</td>\n",
       "      <td>18.0</td>\n",
       "    </tr>\n",
       "    <tr>\n",
       "      <td>127907</td>\n",
       "      <td>28-04-15</td>\n",
       "      <td>THIRUCHIRAPALLI</td>\n",
       "      <td>Onion</td>\n",
       "      <td>18.0</td>\n",
       "    </tr>\n",
       "    <tr>\n",
       "      <td>127908</td>\n",
       "      <td>28-04-15</td>\n",
       "      <td>COIMBATORE</td>\n",
       "      <td>Onion</td>\n",
       "      <td>18.0</td>\n",
       "    </tr>\n",
       "    <tr>\n",
       "      <td>127909</td>\n",
       "      <td>28-04-15</td>\n",
       "      <td>TIRUNELVELI</td>\n",
       "      <td>Onion</td>\n",
       "      <td>18.0</td>\n",
       "    </tr>\n",
       "    <tr>\n",
       "      <td>127910</td>\n",
       "      <td>28-04-15</td>\n",
       "      <td>HYDERABAD</td>\n",
       "      <td>Onion</td>\n",
       "      <td>22.0</td>\n",
       "    </tr>\n",
       "  </tbody>\n",
       "</table>\n",
       "<p>127911 rows × 4 columns</p>\n",
       "</div>"
      ],
      "text/plain": [
       "            Date      Centre_Name Commodity_Name  Price\n",
       "0       25-11-97            DELHI          Onion    8.0\n",
       "1       25-11-97           SHIMLA          Onion    7.0\n",
       "2       25-11-97          LUCKNOW          Onion    5.0\n",
       "3       25-11-97        AHMEDABAD          Onion    6.0\n",
       "4       25-11-97           BHOPAL          Onion    8.0\n",
       "...          ...              ...            ...    ...\n",
       "127906  28-04-15         DINDIGUL          Onion   18.0\n",
       "127907  28-04-15  THIRUCHIRAPALLI          Onion   18.0\n",
       "127908  28-04-15       COIMBATORE          Onion   18.0\n",
       "127909  28-04-15      TIRUNELVELI          Onion   18.0\n",
       "127910  28-04-15        HYDERABAD          Onion   22.0\n",
       "\n",
       "[127911 rows x 4 columns]"
      ]
     },
     "execution_count": 3,
     "metadata": {},
     "output_type": "execute_result"
    }
   ],
   "source": [
    "data"
   ]
  },
  {
   "cell_type": "markdown",
   "metadata": {},
   "source": [
    "# simple commands"
   ]
  },
  {
   "cell_type": "code",
   "execution_count": 4,
   "metadata": {
    "ExecuteTime": {
     "end_time": "2021-02-17T02:11:50.314914Z",
     "start_time": "2021-02-17T02:11:50.303901Z"
    }
   },
   "outputs": [
    {
     "name": "stdout",
     "output_type": "stream",
     "text": [
      "Date               object\n",
      "Centre_Name        object\n",
      "Commodity_Name     object\n",
      "Price             float64\n",
      "dtype: object\n"
     ]
    }
   ],
   "source": [
    "print(data.dtypes)"
   ]
  },
  {
   "cell_type": "code",
   "execution_count": 5,
   "metadata": {
    "ExecuteTime": {
     "end_time": "2021-02-17T02:11:51.073953Z",
     "start_time": "2021-02-17T02:11:51.049944Z"
    }
   },
   "outputs": [
    {
     "data": {
      "text/plain": [
       "Index                 128\n",
       "Date              1023288\n",
       "Centre_Name       1023288\n",
       "Commodity_Name    1023288\n",
       "Price             1023288\n",
       "dtype: int64"
      ]
     },
     "execution_count": 5,
     "metadata": {},
     "output_type": "execute_result"
    }
   ],
   "source": [
    "data.memory_usage(index=True,deep=False)"
   ]
  },
  {
   "cell_type": "code",
   "execution_count": 6,
   "metadata": {
    "ExecuteTime": {
     "end_time": "2021-02-17T02:11:51.763872Z",
     "start_time": "2021-02-17T02:11:51.732877Z"
    }
   },
   "outputs": [
    {
     "data": {
      "text/html": [
       "<div>\n",
       "<style scoped>\n",
       "    .dataframe tbody tr th:only-of-type {\n",
       "        vertical-align: middle;\n",
       "    }\n",
       "\n",
       "    .dataframe tbody tr th {\n",
       "        vertical-align: top;\n",
       "    }\n",
       "\n",
       "    .dataframe thead th {\n",
       "        text-align: right;\n",
       "    }\n",
       "</style>\n",
       "<table border=\"1\" class=\"dataframe\">\n",
       "  <thead>\n",
       "    <tr style=\"text-align: right;\">\n",
       "      <th></th>\n",
       "      <th>Date</th>\n",
       "      <th>Centre_Name</th>\n",
       "      <th>Commodity_Name</th>\n",
       "      <th>Price</th>\n",
       "    </tr>\n",
       "  </thead>\n",
       "  <tbody>\n",
       "    <tr>\n",
       "      <td>105648</td>\n",
       "      <td>28-10-13</td>\n",
       "      <td>AIZWAL</td>\n",
       "      <td>Onion</td>\n",
       "      <td>100.0</td>\n",
       "    </tr>\n",
       "    <tr>\n",
       "      <td>105933</td>\n",
       "      <td>04-11-13</td>\n",
       "      <td>AIZWAL</td>\n",
       "      <td>Onion</td>\n",
       "      <td>100.0</td>\n",
       "    </tr>\n",
       "    <tr>\n",
       "      <td>105990</td>\n",
       "      <td>05-11-13</td>\n",
       "      <td>AIZWAL</td>\n",
       "      <td>Onion</td>\n",
       "      <td>100.0</td>\n",
       "    </tr>\n",
       "    <tr>\n",
       "      <td>106047</td>\n",
       "      <td>06-11-13</td>\n",
       "      <td>AIZWAL</td>\n",
       "      <td>Onion</td>\n",
       "      <td>100.0</td>\n",
       "    </tr>\n",
       "    <tr>\n",
       "      <td>106104</td>\n",
       "      <td>07-11-13</td>\n",
       "      <td>AIZWAL</td>\n",
       "      <td>Onion</td>\n",
       "      <td>100.0</td>\n",
       "    </tr>\n",
       "  </tbody>\n",
       "</table>\n",
       "</div>"
      ],
      "text/plain": [
       "            Date Centre_Name Commodity_Name  Price\n",
       "105648  28-10-13      AIZWAL          Onion  100.0\n",
       "105933  04-11-13      AIZWAL          Onion  100.0\n",
       "105990  05-11-13      AIZWAL          Onion  100.0\n",
       "106047  06-11-13      AIZWAL          Onion  100.0\n",
       "106104  07-11-13      AIZWAL          Onion  100.0"
      ]
     },
     "execution_count": 6,
     "metadata": {},
     "output_type": "execute_result"
    }
   ],
   "source": [
    "data.nlargest(5,'Price')"
   ]
  },
  {
   "cell_type": "code",
   "execution_count": 7,
   "metadata": {
    "ExecuteTime": {
     "end_time": "2021-02-17T02:11:53.435159Z",
     "start_time": "2021-02-17T02:11:53.383167Z"
    }
   },
   "outputs": [
    {
     "data": {
      "text/html": [
       "<div>\n",
       "<style scoped>\n",
       "    .dataframe tbody tr th:only-of-type {\n",
       "        vertical-align: middle;\n",
       "    }\n",
       "\n",
       "    .dataframe tbody tr th {\n",
       "        vertical-align: top;\n",
       "    }\n",
       "\n",
       "    .dataframe thead th {\n",
       "        text-align: right;\n",
       "    }\n",
       "</style>\n",
       "<table border=\"1\" class=\"dataframe\">\n",
       "  <thead>\n",
       "    <tr style=\"text-align: right;\">\n",
       "      <th></th>\n",
       "      <th>Date</th>\n",
       "      <th>Centre_Name</th>\n",
       "      <th>Commodity_Name</th>\n",
       "      <th>Price</th>\n",
       "    </tr>\n",
       "  </thead>\n",
       "  <tbody>\n",
       "    <tr>\n",
       "      <td>9768</td>\n",
       "      <td>09-02-00</td>\n",
       "      <td>BENGALURU</td>\n",
       "      <td>Onion</td>\n",
       "      <td>2.0</td>\n",
       "    </tr>\n",
       "    <tr>\n",
       "      <td>10328</td>\n",
       "      <td>27-03-00</td>\n",
       "      <td>CHENNAI</td>\n",
       "      <td>Onion</td>\n",
       "      <td>2.0</td>\n",
       "    </tr>\n",
       "    <tr>\n",
       "      <td>10580</td>\n",
       "      <td>18-04-00</td>\n",
       "      <td>CHENNAI</td>\n",
       "      <td>Onion</td>\n",
       "      <td>2.0</td>\n",
       "    </tr>\n",
       "    <tr>\n",
       "      <td>10598</td>\n",
       "      <td>19-04-00</td>\n",
       "      <td>CHENNAI</td>\n",
       "      <td>Onion</td>\n",
       "      <td>2.0</td>\n",
       "    </tr>\n",
       "    <tr>\n",
       "      <td>11072</td>\n",
       "      <td>30-05-00</td>\n",
       "      <td>BHOPAL</td>\n",
       "      <td>Onion</td>\n",
       "      <td>2.0</td>\n",
       "    </tr>\n",
       "    <tr>\n",
       "      <td>11090</td>\n",
       "      <td>31-05-00</td>\n",
       "      <td>BHOPAL</td>\n",
       "      <td>Onion</td>\n",
       "      <td>2.0</td>\n",
       "    </tr>\n",
       "    <tr>\n",
       "      <td>11108</td>\n",
       "      <td>01-06-00</td>\n",
       "      <td>BHOPAL</td>\n",
       "      <td>Onion</td>\n",
       "      <td>2.0</td>\n",
       "    </tr>\n",
       "    <tr>\n",
       "      <td>11126</td>\n",
       "      <td>02-06-00</td>\n",
       "      <td>BHOPAL</td>\n",
       "      <td>Onion</td>\n",
       "      <td>2.0</td>\n",
       "    </tr>\n",
       "    <tr>\n",
       "      <td>11144</td>\n",
       "      <td>05-06-00</td>\n",
       "      <td>BHOPAL</td>\n",
       "      <td>Onion</td>\n",
       "      <td>2.0</td>\n",
       "    </tr>\n",
       "    <tr>\n",
       "      <td>11162</td>\n",
       "      <td>06-06-00</td>\n",
       "      <td>BHOPAL</td>\n",
       "      <td>Onion</td>\n",
       "      <td>2.0</td>\n",
       "    </tr>\n",
       "    <tr>\n",
       "      <td>11180</td>\n",
       "      <td>07-06-00</td>\n",
       "      <td>BHOPAL</td>\n",
       "      <td>Onion</td>\n",
       "      <td>2.0</td>\n",
       "    </tr>\n",
       "    <tr>\n",
       "      <td>11198</td>\n",
       "      <td>08-06-00</td>\n",
       "      <td>BHOPAL</td>\n",
       "      <td>Onion</td>\n",
       "      <td>2.0</td>\n",
       "    </tr>\n",
       "    <tr>\n",
       "      <td>11216</td>\n",
       "      <td>09-06-00</td>\n",
       "      <td>BHOPAL</td>\n",
       "      <td>Onion</td>\n",
       "      <td>2.0</td>\n",
       "    </tr>\n",
       "    <tr>\n",
       "      <td>11234</td>\n",
       "      <td>12-06-00</td>\n",
       "      <td>BHOPAL</td>\n",
       "      <td>Onion</td>\n",
       "      <td>2.0</td>\n",
       "    </tr>\n",
       "    <tr>\n",
       "      <td>11252</td>\n",
       "      <td>13-06-00</td>\n",
       "      <td>BHOPAL</td>\n",
       "      <td>Onion</td>\n",
       "      <td>2.0</td>\n",
       "    </tr>\n",
       "    <tr>\n",
       "      <td>11270</td>\n",
       "      <td>14-06-00</td>\n",
       "      <td>BHOPAL</td>\n",
       "      <td>Onion</td>\n",
       "      <td>2.0</td>\n",
       "    </tr>\n",
       "    <tr>\n",
       "      <td>11288</td>\n",
       "      <td>16-06-00</td>\n",
       "      <td>BHOPAL</td>\n",
       "      <td>Onion</td>\n",
       "      <td>2.0</td>\n",
       "    </tr>\n",
       "    <tr>\n",
       "      <td>11306</td>\n",
       "      <td>19-06-00</td>\n",
       "      <td>BHOPAL</td>\n",
       "      <td>Onion</td>\n",
       "      <td>2.0</td>\n",
       "    </tr>\n",
       "    <tr>\n",
       "      <td>11324</td>\n",
       "      <td>20-06-00</td>\n",
       "      <td>BHOPAL</td>\n",
       "      <td>Onion</td>\n",
       "      <td>2.0</td>\n",
       "    </tr>\n",
       "    <tr>\n",
       "      <td>11342</td>\n",
       "      <td>21-06-00</td>\n",
       "      <td>BHOPAL</td>\n",
       "      <td>Onion</td>\n",
       "      <td>2.0</td>\n",
       "    </tr>\n",
       "    <tr>\n",
       "      <td>11360</td>\n",
       "      <td>22-06-00</td>\n",
       "      <td>BHOPAL</td>\n",
       "      <td>Onion</td>\n",
       "      <td>2.0</td>\n",
       "    </tr>\n",
       "    <tr>\n",
       "      <td>11378</td>\n",
       "      <td>23-06-00</td>\n",
       "      <td>BHOPAL</td>\n",
       "      <td>Onion</td>\n",
       "      <td>2.0</td>\n",
       "    </tr>\n",
       "    <tr>\n",
       "      <td>11396</td>\n",
       "      <td>26-06-00</td>\n",
       "      <td>BHOPAL</td>\n",
       "      <td>Onion</td>\n",
       "      <td>2.0</td>\n",
       "    </tr>\n",
       "    <tr>\n",
       "      <td>11414</td>\n",
       "      <td>27-06-00</td>\n",
       "      <td>BHOPAL</td>\n",
       "      <td>Onion</td>\n",
       "      <td>2.0</td>\n",
       "    </tr>\n",
       "    <tr>\n",
       "      <td>11432</td>\n",
       "      <td>28-06-00</td>\n",
       "      <td>BHOPAL</td>\n",
       "      <td>Onion</td>\n",
       "      <td>2.0</td>\n",
       "    </tr>\n",
       "  </tbody>\n",
       "</table>\n",
       "</div>"
      ],
      "text/plain": [
       "           Date Centre_Name Commodity_Name  Price\n",
       "9768   09-02-00   BENGALURU          Onion    2.0\n",
       "10328  27-03-00     CHENNAI          Onion    2.0\n",
       "10580  18-04-00     CHENNAI          Onion    2.0\n",
       "10598  19-04-00     CHENNAI          Onion    2.0\n",
       "11072  30-05-00      BHOPAL          Onion    2.0\n",
       "11090  31-05-00      BHOPAL          Onion    2.0\n",
       "11108  01-06-00      BHOPAL          Onion    2.0\n",
       "11126  02-06-00      BHOPAL          Onion    2.0\n",
       "11144  05-06-00      BHOPAL          Onion    2.0\n",
       "11162  06-06-00      BHOPAL          Onion    2.0\n",
       "11180  07-06-00      BHOPAL          Onion    2.0\n",
       "11198  08-06-00      BHOPAL          Onion    2.0\n",
       "11216  09-06-00      BHOPAL          Onion    2.0\n",
       "11234  12-06-00      BHOPAL          Onion    2.0\n",
       "11252  13-06-00      BHOPAL          Onion    2.0\n",
       "11270  14-06-00      BHOPAL          Onion    2.0\n",
       "11288  16-06-00      BHOPAL          Onion    2.0\n",
       "11306  19-06-00      BHOPAL          Onion    2.0\n",
       "11324  20-06-00      BHOPAL          Onion    2.0\n",
       "11342  21-06-00      BHOPAL          Onion    2.0\n",
       "11360  22-06-00      BHOPAL          Onion    2.0\n",
       "11378  23-06-00      BHOPAL          Onion    2.0\n",
       "11396  26-06-00      BHOPAL          Onion    2.0\n",
       "11414  27-06-00      BHOPAL          Onion    2.0\n",
       "11432  28-06-00      BHOPAL          Onion    2.0"
      ]
     },
     "execution_count": 7,
     "metadata": {},
     "output_type": "execute_result"
    }
   ],
   "source": [
    "data.nsmallest(25,'Price')"
   ]
  },
  {
   "cell_type": "markdown",
   "metadata": {},
   "source": [
    "# interchanging columns"
   ]
  },
  {
   "cell_type": "code",
   "execution_count": 8,
   "metadata": {
    "ExecuteTime": {
     "end_time": "2021-02-17T02:11:56.594001Z",
     "start_time": "2021-02-17T02:11:56.576988Z"
    }
   },
   "outputs": [
    {
     "data": {
      "text/plain": [
       "['Date', 'Centre_Name', 'Commodity_Name', 'Price']"
      ]
     },
     "execution_count": 8,
     "metadata": {},
     "output_type": "execute_result"
    }
   ],
   "source": [
    "titles = list(data.columns)\n",
    "titles #titles is a list of strings"
   ]
  },
  {
   "cell_type": "code",
   "execution_count": 9,
   "metadata": {
    "ExecuteTime": {
     "end_time": "2021-02-17T02:11:59.545990Z",
     "start_time": "2021-02-17T02:11:59.526002Z"
    }
   },
   "outputs": [
    {
     "data": {
      "text/plain": [
       "['Date', 'Commodity_Name', 'Centre_Name', 'Price']"
      ]
     },
     "execution_count": 9,
     "metadata": {},
     "output_type": "execute_result"
    }
   ],
   "source": [
    "titles[1], titles[2] = titles[2], titles[1]\n",
    "titles"
   ]
  },
  {
   "cell_type": "code",
   "execution_count": 10,
   "metadata": {
    "ExecuteTime": {
     "end_time": "2021-02-17T02:12:02.220375Z",
     "start_time": "2021-02-17T02:12:02.185372Z"
    }
   },
   "outputs": [
    {
     "data": {
      "text/html": [
       "<div>\n",
       "<style scoped>\n",
       "    .dataframe tbody tr th:only-of-type {\n",
       "        vertical-align: middle;\n",
       "    }\n",
       "\n",
       "    .dataframe tbody tr th {\n",
       "        vertical-align: top;\n",
       "    }\n",
       "\n",
       "    .dataframe thead th {\n",
       "        text-align: right;\n",
       "    }\n",
       "</style>\n",
       "<table border=\"1\" class=\"dataframe\">\n",
       "  <thead>\n",
       "    <tr style=\"text-align: right;\">\n",
       "      <th></th>\n",
       "      <th>Date</th>\n",
       "      <th>Commodity_Name</th>\n",
       "      <th>Centre_Name</th>\n",
       "      <th>Price</th>\n",
       "    </tr>\n",
       "  </thead>\n",
       "  <tbody>\n",
       "    <tr>\n",
       "      <td>0</td>\n",
       "      <td>25-11-97</td>\n",
       "      <td>Onion</td>\n",
       "      <td>DELHI</td>\n",
       "      <td>8.0</td>\n",
       "    </tr>\n",
       "    <tr>\n",
       "      <td>1</td>\n",
       "      <td>25-11-97</td>\n",
       "      <td>Onion</td>\n",
       "      <td>SHIMLA</td>\n",
       "      <td>7.0</td>\n",
       "    </tr>\n",
       "    <tr>\n",
       "      <td>2</td>\n",
       "      <td>25-11-97</td>\n",
       "      <td>Onion</td>\n",
       "      <td>LUCKNOW</td>\n",
       "      <td>5.0</td>\n",
       "    </tr>\n",
       "    <tr>\n",
       "      <td>3</td>\n",
       "      <td>25-11-97</td>\n",
       "      <td>Onion</td>\n",
       "      <td>AHMEDABAD</td>\n",
       "      <td>6.0</td>\n",
       "    </tr>\n",
       "    <tr>\n",
       "      <td>4</td>\n",
       "      <td>25-11-97</td>\n",
       "      <td>Onion</td>\n",
       "      <td>BHOPAL</td>\n",
       "      <td>8.0</td>\n",
       "    </tr>\n",
       "    <tr>\n",
       "      <td>...</td>\n",
       "      <td>...</td>\n",
       "      <td>...</td>\n",
       "      <td>...</td>\n",
       "      <td>...</td>\n",
       "    </tr>\n",
       "    <tr>\n",
       "      <td>127906</td>\n",
       "      <td>28-04-15</td>\n",
       "      <td>Onion</td>\n",
       "      <td>DINDIGUL</td>\n",
       "      <td>18.0</td>\n",
       "    </tr>\n",
       "    <tr>\n",
       "      <td>127907</td>\n",
       "      <td>28-04-15</td>\n",
       "      <td>Onion</td>\n",
       "      <td>THIRUCHIRAPALLI</td>\n",
       "      <td>18.0</td>\n",
       "    </tr>\n",
       "    <tr>\n",
       "      <td>127908</td>\n",
       "      <td>28-04-15</td>\n",
       "      <td>Onion</td>\n",
       "      <td>COIMBATORE</td>\n",
       "      <td>18.0</td>\n",
       "    </tr>\n",
       "    <tr>\n",
       "      <td>127909</td>\n",
       "      <td>28-04-15</td>\n",
       "      <td>Onion</td>\n",
       "      <td>TIRUNELVELI</td>\n",
       "      <td>18.0</td>\n",
       "    </tr>\n",
       "    <tr>\n",
       "      <td>127910</td>\n",
       "      <td>28-04-15</td>\n",
       "      <td>Onion</td>\n",
       "      <td>HYDERABAD</td>\n",
       "      <td>22.0</td>\n",
       "    </tr>\n",
       "  </tbody>\n",
       "</table>\n",
       "<p>127911 rows × 4 columns</p>\n",
       "</div>"
      ],
      "text/plain": [
       "            Date Commodity_Name      Centre_Name  Price\n",
       "0       25-11-97          Onion            DELHI    8.0\n",
       "1       25-11-97          Onion           SHIMLA    7.0\n",
       "2       25-11-97          Onion          LUCKNOW    5.0\n",
       "3       25-11-97          Onion        AHMEDABAD    6.0\n",
       "4       25-11-97          Onion           BHOPAL    8.0\n",
       "...          ...            ...              ...    ...\n",
       "127906  28-04-15          Onion         DINDIGUL   18.0\n",
       "127907  28-04-15          Onion  THIRUCHIRAPALLI   18.0\n",
       "127908  28-04-15          Onion       COIMBATORE   18.0\n",
       "127909  28-04-15          Onion      TIRUNELVELI   18.0\n",
       "127910  28-04-15          Onion        HYDERABAD   22.0\n",
       "\n",
       "[127911 rows x 4 columns]"
      ]
     },
     "execution_count": 10,
     "metadata": {},
     "output_type": "execute_result"
    }
   ],
   "source": [
    "data = data[titles]\n",
    "data"
   ]
  },
  {
   "cell_type": "markdown",
   "metadata": {},
   "source": [
    "# creating a new column and inserting in to the data"
   ]
  },
  {
   "cell_type": "code",
   "execution_count": 11,
   "metadata": {
    "ExecuteTime": {
     "end_time": "2021-02-17T02:12:13.750193Z",
     "start_time": "2021-02-17T02:12:13.715213Z"
    }
   },
   "outputs": [
    {
     "name": "stdout",
     "output_type": "stream",
     "text": [
      "         Name  Height Qualification\n",
      "0        Ravi     5.1           Msc\n",
      "1     Kavitha     6.2            MA\n",
      "2      Gaurav     5.1           Msc\n",
      "3  Dharmendar     5.2           Msc\n"
     ]
    },
    {
     "data": {
      "text/html": [
       "<div>\n",
       "<style scoped>\n",
       "    .dataframe tbody tr th:only-of-type {\n",
       "        vertical-align: middle;\n",
       "    }\n",
       "\n",
       "    .dataframe tbody tr th {\n",
       "        vertical-align: top;\n",
       "    }\n",
       "\n",
       "    .dataframe thead th {\n",
       "        text-align: right;\n",
       "    }\n",
       "</style>\n",
       "<table border=\"1\" class=\"dataframe\">\n",
       "  <thead>\n",
       "    <tr style=\"text-align: right;\">\n",
       "      <th></th>\n",
       "      <th>Name</th>\n",
       "      <th>Height</th>\n",
       "      <th>Age</th>\n",
       "      <th>Qualification</th>\n",
       "    </tr>\n",
       "  </thead>\n",
       "  <tbody>\n",
       "    <tr>\n",
       "      <td>0</td>\n",
       "      <td>Ravi</td>\n",
       "      <td>5.1</td>\n",
       "      <td>21</td>\n",
       "      <td>Msc</td>\n",
       "    </tr>\n",
       "    <tr>\n",
       "      <td>1</td>\n",
       "      <td>Kavitha</td>\n",
       "      <td>6.2</td>\n",
       "      <td>23</td>\n",
       "      <td>MA</td>\n",
       "    </tr>\n",
       "    <tr>\n",
       "      <td>2</td>\n",
       "      <td>Gaurav</td>\n",
       "      <td>5.1</td>\n",
       "      <td>24</td>\n",
       "      <td>Msc</td>\n",
       "    </tr>\n",
       "    <tr>\n",
       "      <td>3</td>\n",
       "      <td>Dharmendar</td>\n",
       "      <td>5.2</td>\n",
       "      <td>21</td>\n",
       "      <td>Msc</td>\n",
       "    </tr>\n",
       "  </tbody>\n",
       "</table>\n",
       "</div>"
      ],
      "text/plain": [
       "         Name  Height  Age Qualification\n",
       "0        Ravi     5.1   21           Msc\n",
       "1     Kavitha     6.2   23            MA\n",
       "2      Gaurav     5.1   24           Msc\n",
       "3  Dharmendar     5.2   21           Msc"
      ]
     },
     "execution_count": 11,
     "metadata": {},
     "output_type": "execute_result"
    }
   ],
   "source": [
    "# Import pandas package \n",
    "import pandas as pd \n",
    "\n",
    "# Define a dictionary containing Students data \n",
    "data = {'Name': ['Ravi', 'Kavitha', 'Gaurav', 'Dharmendar'], 'Height': [5.1, 6.2, 5.1, 5.2], 'Qualification': ['Msc', 'MA', 'Msc', 'Msc']} \n",
    "\n",
    "# Convert the dictionary into DataFrame \n",
    "df = pd.DataFrame(data) \n",
    "print(df)\n",
    "# Using DataFrame.insert() to add a column \n",
    "df.insert(2, \"Age\", [21, 23, 24, 21], True)\n",
    "\n",
    "# Observe the result \n",
    "df \n"
   ]
  },
  {
   "cell_type": "code",
   "execution_count": 12,
   "metadata": {
    "ExecuteTime": {
     "end_time": "2021-02-17T02:12:36.497414Z",
     "start_time": "2021-02-17T02:12:36.462426Z"
    }
   },
   "outputs": [
    {
     "data": {
      "text/html": [
       "<div>\n",
       "<style scoped>\n",
       "    .dataframe tbody tr th:only-of-type {\n",
       "        vertical-align: middle;\n",
       "    }\n",
       "\n",
       "    .dataframe tbody tr th {\n",
       "        vertical-align: top;\n",
       "    }\n",
       "\n",
       "    .dataframe thead th {\n",
       "        text-align: right;\n",
       "    }\n",
       "</style>\n",
       "<table border=\"1\" class=\"dataframe\">\n",
       "  <thead>\n",
       "    <tr style=\"text-align: right;\">\n",
       "      <th></th>\n",
       "      <th>Name</th>\n",
       "      <th>Height</th>\n",
       "      <th>Qualification</th>\n",
       "      <th>address</th>\n",
       "    </tr>\n",
       "  </thead>\n",
       "  <tbody>\n",
       "    <tr>\n",
       "      <td>0</td>\n",
       "      <td>Ravi</td>\n",
       "      <td>5.9</td>\n",
       "      <td>BE</td>\n",
       "      <td>Delhi</td>\n",
       "    </tr>\n",
       "    <tr>\n",
       "      <td>1</td>\n",
       "      <td>Kavitha</td>\n",
       "      <td>5.4</td>\n",
       "      <td>ME</td>\n",
       "      <td>Bangalore</td>\n",
       "    </tr>\n",
       "    <tr>\n",
       "      <td>2</td>\n",
       "      <td>Gaurav</td>\n",
       "      <td>5.9</td>\n",
       "      <td>B.Tech</td>\n",
       "      <td>Chennai</td>\n",
       "    </tr>\n",
       "    <tr>\n",
       "      <td>3</td>\n",
       "      <td>Dharmendar</td>\n",
       "      <td>6.0</td>\n",
       "      <td>Msc</td>\n",
       "      <td>Patna</td>\n",
       "    </tr>\n",
       "  </tbody>\n",
       "</table>\n",
       "</div>"
      ],
      "text/plain": [
       "         Name  Height Qualification    address\n",
       "0        Ravi     5.9            BE      Delhi\n",
       "1     Kavitha     5.4            ME  Bangalore\n",
       "2      Gaurav     5.9        B.Tech    Chennai\n",
       "3  Dharmendar     6.0           Msc      Patna"
      ]
     },
     "execution_count": 12,
     "metadata": {},
     "output_type": "execute_result"
    }
   ],
   "source": [
    "# Import pandas package \n",
    "import pandas as pd \n",
    "\n",
    "# Define a dictionary containing Students data \n",
    "data = {'Name': ['Ravi', 'Kavitha', 'Gaurav', 'Dharmendar'], 'Height': [5.9, 5.4, 5.9, 6.0], 'Qualification': ['BE', 'ME', 'B.Tech', 'Msc']} \n",
    "\n",
    "# Convert the dictionary into DataFrame \n",
    "df = pd.DataFrame(data) \n",
    "df2 = df.assign(address = ['Delhi', 'Bangalore', 'Chennai', 'Patna']) \n",
    "df2"
   ]
  },
  {
   "cell_type": "markdown",
   "metadata": {},
   "source": [
    "# overwriting columns"
   ]
  },
  {
   "cell_type": "code",
   "execution_count": 13,
   "metadata": {
    "ExecuteTime": {
     "end_time": "2021-02-17T02:12:44.841011Z",
     "start_time": "2021-02-17T02:12:42.875649Z"
    }
   },
   "outputs": [],
   "source": [
    "from numpy import array\n",
    "from numpy import argmax\n",
    "from sklearn.preprocessing import LabelEncoder\n",
    "from sklearn.preprocessing import OneHotEncoder"
   ]
  },
  {
   "cell_type": "code",
   "execution_count": 14,
   "metadata": {
    "ExecuteTime": {
     "end_time": "2021-02-17T02:12:44.887049Z",
     "start_time": "2021-02-17T02:12:44.844013Z"
    }
   },
   "outputs": [
    {
     "name": "stdout",
     "output_type": "stream",
     "text": [
      "     a    b    c    d            e\n",
      "0  5.1  3.5  1.4  0.2  Iris-setosa\n",
      "1  4.9  3.0  1.4  0.2  Iris-setosa\n",
      "2  4.7  3.2  1.3  0.2  Iris-setosa\n",
      "3  4.6  3.1  1.5  0.2  Iris-setosa\n",
      "4  5.0  3.6  1.4  0.2  Iris-setosa\n",
      "       a    b    c    d  e\n",
      "0    5.1  3.5  1.4  0.2  0\n",
      "1    4.9  3.0  1.4  0.2  0\n",
      "2    4.7  3.2  1.3  0.2  0\n",
      "3    4.6  3.1  1.5  0.2  0\n",
      "4    5.0  3.6  1.4  0.2  0\n",
      "..   ...  ...  ...  ... ..\n",
      "145  6.7  3.0  5.2  2.3  2\n",
      "146  6.3  2.5  5.0  1.9  2\n",
      "147  6.5  3.0  5.2  2.0  2\n",
      "148  6.2  3.4  5.4  2.3  2\n",
      "149  5.9  3.0  5.1  1.8  2\n",
      "\n",
      "[150 rows x 5 columns]\n"
     ]
    }
   ],
   "source": [
    "headers_name=['a','b','c','d','e']\n",
    "data=read_csv(\"iris.csv\",names=headers_name)\n",
    "print(data.head())\n",
    "x=array(data['e'])\n",
    "label_encoder = LabelEncoder()\n",
    "data['e'] = label_encoder.fit_transform(x)\n",
    "# print(integer_encoded)\n",
    "print(data)"
   ]
  },
  {
   "cell_type": "code",
   "execution_count": null,
   "metadata": {},
   "outputs": [],
   "source": []
  }
 ],
 "metadata": {
  "kernelspec": {
   "display_name": "Python 3",
   "language": "python",
   "name": "python3"
  },
  "language_info": {
   "codemirror_mode": {
    "name": "ipython",
    "version": 3
   },
   "file_extension": ".py",
   "mimetype": "text/x-python",
   "name": "python",
   "nbconvert_exporter": "python",
   "pygments_lexer": "ipython3",
   "version": "3.7.4"
  }
 },
 "nbformat": 4,
 "nbformat_minor": 2
}
